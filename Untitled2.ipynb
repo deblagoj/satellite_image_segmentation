{
 "cells": [
  {
   "cell_type": "code",
   "execution_count": null,
   "metadata": {},
   "outputs": [],
   "source": [
    "37s 326ms/step - loss: 0.9916 - val_loss: 0.9774\n",
    "Epoch 2/200\n",
    "115/115 [==============================] - 37s 324ms/step - loss: 0.9617 - val_loss: 0.9262\n",
    "Epoch 3/200\n",
    "115/115 [==============================] - 37s 324ms/step - loss: 0.9549 - val_loss: 1.0273\n",
    "Epoch 4/200\n",
    "115/115 [==============================] - 37s 324ms/step - loss: 0.9382 - val_loss: 1.0139\n",
    "Epoch 5/200\n",
    "115/115 [==============================] - 38s 326ms/step - loss: 0.9245 - val_loss: 1.7535\n",
    "Epoch 6/200\n",
    "115/115 [==============================] - 37s 326ms/step - loss: 0.9110 - val_loss: 1.5593\n",
    "Epoch 7/200\n",
    "115/115 [==============================] - 37s 326ms/step - loss: 0.9018 - val_loss: 0.9731"
   ]
  }
 ],
 "metadata": {
  "kernelspec": {
   "display_name": "Python 3",
   "language": "python",
   "name": "python3"
  },
  "language_info": {
   "codemirror_mode": {
    "name": "ipython",
    "version": 3
   },
   "file_extension": ".py",
   "mimetype": "text/x-python",
   "name": "python",
   "nbconvert_exporter": "python",
   "pygments_lexer": "ipython3",
   "version": "3.7.9"
  }
 },
 "nbformat": 4,
 "nbformat_minor": 4
}
