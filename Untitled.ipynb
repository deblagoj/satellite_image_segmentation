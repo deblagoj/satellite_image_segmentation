{
 "cells": [
  {
   "cell_type": "code",
   "execution_count": null,
   "metadata": {},
   "outputs": [],
   "source": [
    "Epoch 32/100\n",
    "229/229 [==============================] - 76s 330ms/step - loss: 0.9299 - acc: 0.6792 - val_loss: 0.8555 - val_acc: 0.7187\n",
    "Epoch 33/100\n",
    "229/229 [==============================] - 75s 329ms/step - loss: 0.9194 - acc: 0.6823 - val_loss: 0.9282 - val_acc: 0.6849\n",
    "Epoch 34/100\n",
    "229/229 [==============================] - 75s 330ms/step - loss: 0.9108 - acc: 0.6838 - val_loss: 0.8555 - val_acc: 0.7118\n",
    "Epoch 35/100\n",
    "229/229 [==============================] - 75s 329ms/step - loss: 0.9058 - acc: 0.6861 - val_loss: 0.8880 - val_acc: 0.7143\n",
    "Epoch 36/100\n",
    "229/229 [==============================] - 75s 329ms/step - loss: 0.9025 - acc: 0.6870 - val_loss: 0.9517 - val_acc: 0.6766\n",
    "Epoch 37/100\n",
    "229/229 [==============================] - 75s 330ms/step - loss: 0.8958 - acc: 0.6896 - val_loss: 0.9432 - val_acc: 0.6846"
   ]
  }
 ],
 "metadata": {
  "kernelspec": {
   "display_name": "Python 3",
   "language": "python",
   "name": "python3"
  },
  "language_info": {
   "codemirror_mode": {
    "name": "ipython",
    "version": 3
   },
   "file_extension": ".py",
   "mimetype": "text/x-python",
   "name": "python",
   "nbconvert_exporter": "python",
   "pygments_lexer": "ipython3",
   "version": "3.7.9"
  }
 },
 "nbformat": 4,
 "nbformat_minor": 4
}
